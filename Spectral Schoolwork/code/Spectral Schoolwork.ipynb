{
 "cells": [
  {
   "cell_type": "markdown",
   "metadata": {},
   "source": [
    "姓名：申尚东\n",
    "\n",
    "学号：2016011378\n",
    "\n",
    "学院：软件学院\n",
    "\n",
    "专业：软件工程\n",
    "\n",
    "实训作业一：Spectral Schoolwork"
   ]
  },
  {
   "cell_type": "code",
   "execution_count": 1,
   "metadata": {},
   "outputs": [],
   "source": [
    "#导入必要的模块\n",
    "import numpy as np\n",
    "import scipy.io as sio"
   ]
  },
  {
   "cell_type": "code",
   "execution_count": 2,
   "metadata": {},
   "outputs": [],
   "source": [
    "#导入需要的数据集\n",
    "load_data1 = sio.loadmat('F:/Iris/nine_train/nine_train/data2_train.mat')\n",
    "load_data2 = sio.loadmat('F:/Iris/nine_train/nine_train/data3_train.mat')\n",
    "load_data3 = sio.loadmat('F:/Iris/nine_train/nine_train/data5_train.mat')\n",
    "load_data4 = sio.loadmat('F:/Iris/nine_train/nine_train/data6_train.mat')\n",
    "load_data5 = sio.loadmat('F:/Iris/nine_train/nine_train/data8_train.mat')\n",
    "load_data6 = sio.loadmat('F:/Iris/nine_train/nine_train/data10_train.mat')\n",
    "load_data7 = sio.loadmat('F:/Iris/nine_train/nine_train/data11_train.mat')\n",
    "load_data8 = sio.loadmat('F:/Iris/nine_train/nine_train/data12_train.mat')\n",
    "load_data9 = sio.loadmat('F:/Iris/nine_train/nine_train/data14_train.mat')\n",
    "test_data = sio.loadmat('F:/Iris/nine_train/data_test_final.mat')"
   ]
  },
  {
   "cell_type": "code",
   "execution_count": 3,
   "metadata": {},
   "outputs": [
    {
     "name": "stdout",
     "output_type": "stream",
     "text": [
      "data1: (1071, 200)\n",
      "data2: (622, 200)\n",
      "data3: (362, 200)\n",
      "data4: (547, 200)\n",
      "data5: (358, 200)\n",
      "data6: (729, 200)\n",
      "data7: (1841, 200)\n",
      "data8: (445, 200)\n",
      "data9: (949, 200)\n",
      "test: (2310, 200)\n",
      "[[3688 4381 4594 ... 1064 1034 1010]\n",
      " [2579 4137 4412 ... 1051 1043 1005]\n",
      " [2581 4264 4328 ... 1054 1022 1009]\n",
      " ...\n",
      " [3186 4114 4213 ... 1045 1015 1009]\n",
      " [2586 4114 4226 ... 1023 1018 1014]\n",
      " [3189 4118 4492 ... 1034 1014 1009]]\n",
      "[[3164 4384 4427 ... 1054 1025 1024]\n",
      " [3674 4257 4600 ... 1055 1029 1011]\n",
      " [2732 4137 4507 ... 1055 1030 1015]\n",
      " ...\n",
      " [3322 3990 4560 ... 1046 1015 1013]\n",
      " [2727 4110 4378 ... 1041 1019 1018]\n",
      " [3666 3994 4294 ... 1049 1010 1014]]\n",
      "[[3183 3740 3851 ... 1006 1008 1000]\n",
      " [2585 3743 4105 ... 1015 1009 1003]\n",
      " [2583 3860 3847 ... 1007 1009 1000]\n",
      " ...\n",
      " [2986 3726 4013 ... 1022 1014 1004]\n",
      " [3322 3850 3924 ... 1017 1009 1004]\n",
      " [2981 3850 3936 ... 1012 1005 1004]]\n",
      "[[3024 3861 3942 ... 1002 1009 1013]\n",
      " [3032 3869 4022 ... 1015 1009 1000]\n",
      " [2771 4105 3857 ... 1025 1009 1000]\n",
      " ...\n",
      " [3669 3979 4020 ... 1025 1014 1004]\n",
      " [2565 4095 4113 ... 1013  992 1000]\n",
      " [3669 3851 4193 ... 1012 1003  995]]\n",
      "[[2754 4368 4419 ... 1026 1010 1004]\n",
      " [2754 3996 4419 ... 1030 1023 1013]\n",
      " [2754 4008 4411 ... 1022 1024 1005]\n",
      " ...\n",
      " [3192 4235 4313 ... 1026 1023 1000]\n",
      " [3192 4111 4313 ... 1030 1014 1008]\n",
      " [3192 4115 4313 ... 1031 1014 1013]]\n",
      "[[3693 4256 4503 ... 1050 1024 1024]\n",
      " [2589 4372 4334 ... 1050 1024 1019]\n",
      " [3693 4128 4507 ... 1045 1029 1019]\n",
      " ...\n",
      " [2564 4238 4290 ... 1042 1023 1018]\n",
      " [2735 4114 4295 ... 1041 1024 1018]\n",
      " [2732 4122 4388 ... 1054 1024 1014]]\n",
      "[[3711 4242 4408 ... 1064 1019 1023]\n",
      " [3711 4245 4417 ... 1042 1023 1019]\n",
      " [3711 4362 4594 ... 1044 1024 1009]\n",
      " ...\n",
      " [2728 4350 4473 ... 1040 1018 1005]\n",
      " [3154 4106 4299 ... 1040 1018 1023]\n",
      " [3154 4226 4384 ... 1045 1023 1001]]\n",
      "[[2564 4131 4333 ... 1041 1016 1010]\n",
      " [2737 4019 4418 ... 1041 1020 1019]\n",
      " [3663 4383 4321 ... 1045 1025 1015]\n",
      " ...\n",
      " [3703 4493 4599 ... 1064 1043 1009]\n",
      " [3198 4362 4683 ... 1073 1030 1018]\n",
      " [3708 4242 4594 ... 1061 1020 1023]]\n",
      "[[2574 3874 4134 ... 1014 1010 1003]\n",
      " [3174 3881 4045 ... 1021 1010 1009]\n",
      " [2577 4121 4054 ... 1012 1006 1004]\n",
      " ...\n",
      " [2725 3982 4099 ... 1007 1004 1008]\n",
      " [3320 3862 4015 ... 1007 1004 1000]\n",
      " [3154 3986 4099 ... 1011  996 1003]]\n",
      "[[3158 4122 4145 ... 1022 1019 1010]\n",
      " [3023 3737 4027 ... 1019 1008 1004]\n",
      " [2743 4388 4591 ... 1056 1030 1025]\n",
      " ...\n",
      " [2561 3881 4051 ... 1018  998 1015]\n",
      " [2745 4391 4335 ... 1046 1029 1019]\n",
      " [3009 3986 3967 ... 1011 1009 1000]]\n"
     ]
    }
   ],
   "source": [
    "#输出导入文件的有用数据部分以及每个矩阵的大小\n",
    "data1 =load_data1['data2_train']\n",
    "data2 =load_data2['data3_train']\n",
    "data3 =load_data3['data5_train']\n",
    "data4 =load_data4['data6_train']\n",
    "data5 =load_data5['data8_train']\n",
    "data6 =load_data6['data10_train']\n",
    "data7 =load_data7['data11_train']\n",
    "data8 =load_data8['data12_train']\n",
    "data9 =load_data9['data14_train']\n",
    "test = test_data['data_test_final']\n",
    "print('data1:',data1.shape)\n",
    "print('data2:',data2.shape)\n",
    "print('data3:',data3.shape)\n",
    "print('data4:',data4.shape)\n",
    "print('data5:',data5.shape)\n",
    "print('data6:',data6.shape)\n",
    "print('data7:',data7.shape)\n",
    "print('data8:',data8.shape)\n",
    "print('data9:',data9.shape)\n",
    "print('test:',test.shape)\n",
    "print(data1)\n",
    "print(data2)\n",
    "print(data3)\n",
    "print(data4)\n",
    "print(data5)\n",
    "print(data6)\n",
    "print(data7)\n",
    "print(data8)\n",
    "print(data9)\n",
    "print(test)"
   ]
  },
  {
   "cell_type": "code",
   "execution_count": 4,
   "metadata": {},
   "outputs": [],
   "source": [
    "#合并9个数据集，按照从小到大，每个文件的数据对应的标签设为从1到9\n",
    "data = np.vstack((data1,data2,data3,data4,data5,data6,data7,data8,data9))\n",
    "label = [1,2,3,4,5,6,7,8,9]\n",
    "repeat = [len(data1),len(data2),len(data3),len(data4),len(data5),len(data6),len(data7),len(data8),len(data9)]\n",
    "label_data = np.repeat(label,repeat)"
   ]
  },
  {
   "cell_type": "code",
   "execution_count": 5,
   "metadata": {},
   "outputs": [
    {
     "data": {
      "text/plain": [
       "6924"
      ]
     },
     "execution_count": 5,
     "metadata": {},
     "output_type": "execute_result"
    }
   ],
   "source": [
    "len(data)"
   ]
  },
  {
   "cell_type": "code",
   "execution_count": 6,
   "metadata": {},
   "outputs": [
    {
     "data": {
      "text/plain": [
       "6924"
      ]
     },
     "execution_count": 6,
     "metadata": {},
     "output_type": "execute_result"
    }
   ],
   "source": [
    "len(label_data)"
   ]
  },
  {
   "cell_type": "code",
   "execution_count": 27,
   "metadata": {},
   "outputs": [],
   "source": [
    "#切分训练集，百分之八十五训练，百分之十五测试\n",
    "from sklearn.cross_validation import train_test_split\n",
    "trainx,testx,trainy,testy = train_test_split(data,label_data,train_size=0.85,random_state=5)"
   ]
  },
  {
   "cell_type": "code",
   "execution_count": 28,
   "metadata": {},
   "outputs": [
    {
     "name": "stdout",
     "output_type": "stream",
     "text": [
      "0.9971112999150382\n",
      "0.8845043310875842\n"
     ]
    }
   ],
   "source": [
    "#使用随机森林训练模型，得出测试集正确率为88.45%\n",
    "from sklearn.ensemble import RandomForestClassifier\n",
    "clf = RandomForestClassifier(n_estimators=10,random_state=33)\n",
    "clf = clf.fit(trainx,trainy)\n",
    "print(clf.score(trainx,trainy))\n",
    "print(clf.score(testx,testy))"
   ]
  },
  {
   "cell_type": "code",
   "execution_count": 45,
   "metadata": {},
   "outputs": [
    {
     "name": "stdout",
     "output_type": "stream",
     "text": [
      "[8 3 2 ... 9 2 4]\n"
     ]
    }
   ],
   "source": [
    "#用已经训练好的模型训练测试集\n",
    "y_pre=clf.predict(test)\n",
    "print(y_pre)"
   ]
  },
  {
   "cell_type": "code",
   "execution_count": 46,
   "metadata": {},
   "outputs": [],
   "source": [
    "#字典函数，把1-9换成对应的标签\n",
    "def transform(argument):\n",
    "    switcher = {\n",
    "        1:2,\n",
    "        2:3,\n",
    "        3:5,\n",
    "        4:6,\n",
    "        5:8,\n",
    "        6:10,\n",
    "        7:11,\n",
    "        8:12,\n",
    "        9:14,\n",
    "    }\n",
    "    return switcher.get(argument, \"nothing\")"
   ]
  },
  {
   "cell_type": "code",
   "execution_count": 47,
   "metadata": {},
   "outputs": [
    {
     "name": "stdout",
     "output_type": "stream",
     "text": [
      "[12  5  3 ... 14  3  6]\n"
     ]
    }
   ],
   "source": [
    "#转换对应的标签\n",
    "for i in range(len(y_pre)):\n",
    "    y_pre[i] = transform(y_pre[i])\n",
    "print(y_pre)"
   ]
  },
  {
   "cell_type": "code",
   "execution_count": 49,
   "metadata": {},
   "outputs": [],
   "source": [
    "#保存标签到csv文件中\n",
    "import pandas as pd\n",
    "data_ = pd.DataFrame(y_pre)\n",
    "data_.to_csv('test_label')"
   ]
  }
 ],
 "metadata": {
  "kernelspec": {
   "display_name": "Python 3",
   "language": "python",
   "name": "python3"
  },
  "language_info": {
   "codemirror_mode": {
    "name": "ipython",
    "version": 3
   },
   "file_extension": ".py",
   "mimetype": "text/x-python",
   "name": "python",
   "nbconvert_exporter": "python",
   "pygments_lexer": "ipython3",
   "version": "3.6.4"
  }
 },
 "nbformat": 4,
 "nbformat_minor": 2
}
