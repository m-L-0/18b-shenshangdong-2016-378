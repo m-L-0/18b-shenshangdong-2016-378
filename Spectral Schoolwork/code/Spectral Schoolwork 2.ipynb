{
 "cells": [
  {
   "cell_type": "code",
   "execution_count": 1,
   "metadata": {},
   "outputs": [],
   "source": [
    "#导入必要的模块\n",
    "import numpy as np\n",
    "import scipy.io as sio"
   ]
  },
  {
   "cell_type": "code",
   "execution_count": 2,
   "metadata": {},
   "outputs": [],
   "source": [
    "#导入需要的数据集\n",
    "load_data1 = sio.loadmat('F:/Iris/nine_train/nine_train/data2_train.mat')\n",
    "load_data2 = sio.loadmat('F:/Iris/nine_train/nine_train/data3_train.mat')\n",
    "load_data3 = sio.loadmat('F:/Iris/nine_train/nine_train/data5_train.mat')\n",
    "load_data4 = sio.loadmat('F:/Iris/nine_train/nine_train/data6_train.mat')\n",
    "load_data5 = sio.loadmat('F:/Iris/nine_train/nine_train/data8_train.mat')\n",
    "load_data6 = sio.loadmat('F:/Iris/nine_train/nine_train/data10_train.mat')\n",
    "load_data7 = sio.loadmat('F:/Iris/nine_train/nine_train/data11_train.mat')\n",
    "load_data8 = sio.loadmat('F:/Iris/nine_train/nine_train/data12_train.mat')\n",
    "load_data9 = sio.loadmat('F:/Iris/nine_train/nine_train/data14_train.mat')\n",
    "test_data = sio.loadmat('F:/Iris/nine_train/data_test_final.mat')"
   ]
  },
  {
   "cell_type": "code",
   "execution_count": 3,
   "metadata": {},
   "outputs": [],
   "source": [
    "#输出导入文件的有用数据部分以及每个矩阵的大小\n",
    "data1 =load_data1['data2_train']\n",
    "data2 =load_data2['data3_train']\n",
    "data3 =load_data3['data5_train']\n",
    "data4 =load_data4['data6_train']\n",
    "data5 =load_data5['data8_train']\n",
    "data6 =load_data6['data10_train']\n",
    "data7 =load_data7['data11_train']\n",
    "data8 =load_data8['data12_train']\n",
    "data9 =load_data9['data14_train']\n",
    "test = test_data['data_test_final']"
   ]
  },
  {
   "cell_type": "code",
   "execution_count": 4,
   "metadata": {},
   "outputs": [],
   "source": [
    "#合并9个数据集，按照从小到大，每个文件的数据对应的标签设为从1到9\n",
    "data = np.vstack((data1,data2,data3,data4,data5,data6,data7,data8,data9))\n",
    "label = [1,2,3,4,5,6,7,8,9]\n",
    "repeat = [len(data1),len(data2),len(data3),len(data4),len(data5),len(data6),len(data7),len(data8),len(data9)]\n",
    "label_data = np.repeat(label,repeat)"
   ]
  },
  {
   "cell_type": "code",
   "execution_count": 5,
   "metadata": {},
   "outputs": [
    {
     "name": "stderr",
     "output_type": "stream",
     "text": [
      "C:\\Users\\abc\\Anaconda3\\lib\\site-packages\\sklearn\\cross_validation.py:41: DeprecationWarning: This module was deprecated in version 0.18 in favor of the model_selection module into which all the refactored classes and functions are moved. Also note that the interface of the new CV iterators are different from that of this module. This module will be removed in 0.20.\n",
      "  \"This module will be removed in 0.20.\", DeprecationWarning)\n"
     ]
    }
   ],
   "source": [
    "#切分训练集，百分之八十五训练，百分之十五测试\n",
    "from sklearn.cross_validation import train_test_split\n",
    "trainx,testx,trainy,testy = train_test_split(data,label_data,train_size=0.85,random_state=5)"
   ]
  },
  {
   "cell_type": "code",
   "execution_count": 6,
   "metadata": {},
   "outputs": [],
   "source": [
    "#导入SVC模块\n",
    "from sklearn.svm import SVC "
   ]
  },
  {
   "cell_type": "code",
   "execution_count": 7,
   "metadata": {},
   "outputs": [],
   "source": [
    "#归一化\n",
    "trainx=(trainx-trainx.min())/(trainx.max()-trainx.min())\n",
    "testx=(testx-testx.min())/(testx.max()-testx.min())\n",
    "test = (test-test.min())/(test.max()-test.min())"
   ]
  },
  {
   "cell_type": "code",
   "execution_count": 8,
   "metadata": {},
   "outputs": [
    {
     "data": {
      "text/plain": [
       "(1039, 200)"
      ]
     },
     "execution_count": 8,
     "metadata": {},
     "output_type": "execute_result"
    }
   ],
   "source": [
    "testx.shape"
   ]
  },
  {
   "cell_type": "code",
   "execution_count": 9,
   "metadata": {},
   "outputs": [
    {
     "name": "stdout",
     "output_type": "stream",
     "text": [
      "0.9840271877655056\n",
      "0.9461020211742059\n"
     ]
    }
   ],
   "source": [
    "#训练SVC模型，并给出训练集和验证集的正确率\n",
    "clf = SVC(C=250,gamma=1.75,class_weight='balanced')\n",
    "clf.fit(trainx,trainy)\n",
    "a = clf.score(trainx,trainy)\n",
    "b = clf.score(testx,testy)\n",
    "print(a)\n",
    "print(b)"
   ]
  },
  {
   "cell_type": "code",
   "execution_count": 10,
   "metadata": {},
   "outputs": [
    {
     "name": "stdout",
     "output_type": "stream",
     "text": [
      "[1 3 2 ... 9 1 4]\n"
     ]
    }
   ],
   "source": [
    "#用已经训练好的模型训练测试集\n",
    "y_pre=clf.predict(test)\n",
    "print(y_pre)"
   ]
  },
  {
   "cell_type": "code",
   "execution_count": 11,
   "metadata": {},
   "outputs": [],
   "source": [
    "#字典函数，把1-9换成对应的标签\n",
    "def transform(argument):\n",
    "    switcher = {\n",
    "        1:2,\n",
    "        2:3,\n",
    "        3:5,\n",
    "        4:6,\n",
    "        5:8,\n",
    "        6:10,\n",
    "        7:11,\n",
    "        8:12,\n",
    "        9:14,\n",
    "    }\n",
    "    return switcher.get(argument, \"nothing\")"
   ]
  },
  {
   "cell_type": "code",
   "execution_count": 12,
   "metadata": {},
   "outputs": [
    {
     "name": "stdout",
     "output_type": "stream",
     "text": [
      "[ 2  5  3 ... 14  2  6]\n"
     ]
    }
   ],
   "source": [
    "#转换对应的标签\n",
    "for i in range(len(y_pre)):\n",
    "    y_pre[i] = transform(y_pre[i])\n",
    "print(y_pre)"
   ]
  },
  {
   "cell_type": "code",
   "execution_count": 13,
   "metadata": {},
   "outputs": [],
   "source": [
    "#保存标签到csv文件中\n",
    "import pandas as pd\n",
    "data_ = pd.DataFrame(y_pre)\n",
    "data_.to_csv('test_label_2')"
   ]
  },
  {
   "cell_type": "code",
   "execution_count": null,
   "metadata": {},
   "outputs": [],
   "source": []
  }
 ],
 "metadata": {
  "kernelspec": {
   "display_name": "Python 3",
   "language": "python",
   "name": "python3"
  },
  "language_info": {
   "codemirror_mode": {
    "name": "ipython",
    "version": 3
   },
   "file_extension": ".py",
   "mimetype": "text/x-python",
   "name": "python",
   "nbconvert_exporter": "python",
   "pygments_lexer": "ipython3",
   "version": "3.6.4"
  }
 },
 "nbformat": 4,
 "nbformat_minor": 2
}
