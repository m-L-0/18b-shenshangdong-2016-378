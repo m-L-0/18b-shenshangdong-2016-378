{
 "cells": [
  {
   "cell_type": "markdown",
   "metadata": {},
   "source": [
    "姓名：申尚东\n",
    "\n",
    "学号：2016011378\n",
    "\n",
    "学院：软件学院\n",
    "\n",
    "专业：软件工程\n",
    "\n",
    "实训作业一：TensorFlow Schoolwork"
   ]
  },
  {
   "cell_type": "code",
   "execution_count": 1,
   "metadata": {},
   "outputs": [
    {
     "name": "stderr",
     "output_type": "stream",
     "text": [
      "C:\\Users\\abc\\Anaconda3\\lib\\site-packages\\h5py\\__init__.py:36: FutureWarning: Conversion of the second argument of issubdtype from `float` to `np.floating` is deprecated. In future, it will be treated as `np.float64 == np.dtype(float).type`.\n",
      "  from ._conv import register_converters as _register_converters\n"
     ]
    }
   ],
   "source": [
    "#导入需要的工具包\n",
    "import tensorflow as tf\n",
    "import numpy as np"
   ]
  },
  {
   "cell_type": "code",
   "execution_count": 2,
   "metadata": {},
   "outputs": [],
   "source": [
    "#导入数据集\n",
    "from sklearn.datasets import load_iris\n",
    "iris = load_iris()\n",
    "iris_data = iris.data\n",
    "iris_label = iris.target\n",
    "iris_feature_names = iris.feature_names"
   ]
  },
  {
   "cell_type": "code",
   "execution_count": 3,
   "metadata": {},
   "outputs": [],
   "source": [
    "#切分数据，测试集百分之二十，训练集百分之八十\n",
    "from sklearn.model_selection import train_test_split\n",
    "X_train,X_test,Y_train,Y_test = train_test_split(iris_data,iris_label,test_size=0.2,shuffle=True,random_state = 5)"
   ]
  },
  {
   "cell_type": "code",
   "execution_count": 7,
   "metadata": {
    "scrolled": true
   },
   "outputs": [],
   "source": [
    "#训练集和测试集的占位符\n",
    "train = tf.placeholder(tf.float32,shape=[None,4])\n",
    "test = tf.placeholder(tf.float32,shape=[4])\n",
    "#计算训练集与单个测试集的距离向量\n",
    "distance = tf.reduce_sum(tf.abs(tf.add(train,tf.negative(test))),reduction_indices=1)\n",
    "#预测所有测试集对应的类别的函数\n",
    "def train_knn(K):\n",
    "    with tf.Session() as sess:\n",
    "        #定义一个空的预测数组\n",
    "        pred = []\n",
    "        #遍历所有测试集\n",
    "        for i in range(len(X_test)):\n",
    "            dist = sess.run(distance,feed_dict={train:X_train,test:X_test[i]})\n",
    "            knn_idx = np.argsort(dist)[:K]\n",
    "            #找出k个近邻中最多的那个类别，视为本测试样本的类别\n",
    "            classes = [0,0,0]\n",
    "            for i in knn_idx:\n",
    "                if(Y_train[i]==0):\n",
    "                    classes[0]+=1\n",
    "                elif(Y_train[i]==1):\n",
    "                    classes[1] += 1\n",
    "                else:\n",
    "                    classes[2]+=1\n",
    "            y_pred = np.argmax(classes)\n",
    "            pred.append(y_pred)\n",
    "        return pred\n",
    "#计算预测的正确率的函数\n",
    "def acc(k):\n",
    "    y_pred = train_knn(k)\n",
    "    y_true = Y_test\n",
    "    acc = np.sum(np.equal(y_pred,y_true))/len(y_true)\n",
    "    return acc"
   ]
  },
  {
   "cell_type": "code",
   "execution_count": 9,
   "metadata": {},
   "outputs": [
    {
     "name": "stdout",
     "output_type": "stream",
     "text": [
      "1\n",
      "0.8666666666666667\n",
      "2\n",
      "0.8666666666666667\n",
      "3\n",
      "0.9\n",
      "4\n",
      "0.9333333333333333\n",
      "5\n",
      "0.9333333333333333\n",
      "6\n",
      "0.9333333333333333\n",
      "7\n",
      "0.9333333333333333\n",
      "8\n",
      "0.9333333333333333\n",
      "9\n",
      "0.9666666666666667\n",
      "10\n",
      "0.9666666666666667\n",
      "11\n",
      "0.9666666666666667\n",
      "12\n",
      "0.9666666666666667\n",
      "13\n",
      "0.9666666666666667\n",
      "14\n",
      "0.9666666666666667\n",
      "15\n",
      "0.9666666666666667\n",
      "16\n",
      "1.0\n",
      "17\n",
      "0.9666666666666667\n",
      "18\n",
      "1.0\n",
      "19\n",
      "0.9666666666666667\n",
      "20\n",
      "0.9666666666666667\n",
      "21\n",
      "0.9333333333333333\n",
      "22\n",
      "0.9333333333333333\n",
      "23\n",
      "0.9333333333333333\n",
      "24\n",
      "0.9333333333333333\n",
      "25\n",
      "0.9666666666666667\n",
      "26\n",
      "0.9666666666666667\n",
      "27\n",
      "0.9666666666666667\n",
      "28\n",
      "0.9333333333333333\n",
      "29\n",
      "0.9333333333333333\n",
      "30\n",
      "0.9333333333333333\n"
     ]
    }
   ],
   "source": [
    "#让k值遍历1到30，显示出对应的正确率\n",
    "for i in range(1,31):\n",
    "    print(i)\n",
    "    print(acc(i))"
   ]
  },
  {
   "cell_type": "code",
   "execution_count": 11,
   "metadata": {},
   "outputs": [
    {
     "name": "stdout",
     "output_type": "stream",
     "text": [
      "16\n"
     ]
    }
   ],
   "source": [
    "#使正确率最大的k值中最小的是16，所以当划分数据的random_state=5时，k值可以取16最合适\n",
    "k = 1\n",
    "for i in range(1,31):\n",
    "    if (acc(i) > acc(k)):\n",
    "        k = i\n",
    "print(k)"
   ]
  },
  {
   "cell_type": "code",
   "execution_count": null,
   "metadata": {},
   "outputs": [],
   "source": []
  }
 ],
 "metadata": {
  "kernelspec": {
   "display_name": "Python 3",
   "language": "python",
   "name": "python3"
  },
  "language_info": {
   "codemirror_mode": {
    "name": "ipython",
    "version": 3
   },
   "file_extension": ".py",
   "mimetype": "text/x-python",
   "name": "python",
   "nbconvert_exporter": "python",
   "pygments_lexer": "ipython3",
   "version": "3.6.4"
  }
 },
 "nbformat": 4,
 "nbformat_minor": 2
}
